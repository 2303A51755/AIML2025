{
  "nbformat": 4,
  "nbformat_minor": 0,
  "metadata": {
    "colab": {
      "provenance": [],
      "authorship_tag": "ABX9TyO+XqAUm78r++zWBL+zVNYM",
      "include_colab_link": true
    },
    "kernelspec": {
      "name": "python3",
      "display_name": "Python 3"
    },
    "language_info": {
      "name": "python"
    }
  },
  "cells": [
    {
      "cell_type": "markdown",
      "metadata": {
        "id": "view-in-github",
        "colab_type": "text"
      },
      "source": [
        "<a href=\"https://colab.research.google.com/github/2303A51755/AIML2025/blob/main/2303A51755_26_11.ipynb\" target=\"_parent\"><img src=\"https://colab.research.google.com/assets/colab-badge.svg\" alt=\"Open In Colab\"/></a>"
      ]
    },
    {
      "cell_type": "markdown",
      "source": [
        "26. Prediction of dresses in garment sales"
      ],
      "metadata": {
        "id": "ybrab66f4X9G"
      }
    },
    {
      "cell_type": "markdown",
      "source": [
        "1. Identify the top 5 material most used for garment making?\n"
      ],
      "metadata": {
        "id": "KlZ1woCn8ndy"
      }
    },
    {
      "cell_type": "code",
      "source": [
        "import pandas as pd\n",
        "\n",
        "# Sample DataFrame\n",
        "data = {\n",
        "    'material': ['cotton', 'polyester', 'wool', 'silk', 'linen', 'cotton', 'silk', 'wool', 'polyester', 'cotton'],\n",
        "    'sales': [200, 300, 150, 100, 50, 250, 400, 100, 300, 200]\n",
        "}\n",
        "\n",
        "df = pd.DataFrame(data)\n",
        "\n",
        "# Top 5 materials\n",
        "top_materials = df['material'].value_counts().nlargest(5)\n",
        "print(\"Top 5 materials used for garment making:\")\n",
        "print(top_materials)"
      ],
      "metadata": {
        "colab": {
          "base_uri": "https://localhost:8080/"
        },
        "id": "LzjhHWdp571L",
        "outputId": "c78c3195-81b4-4cf1-e77c-8b0104e525a0"
      },
      "execution_count": 1,
      "outputs": [
        {
          "output_type": "stream",
          "name": "stdout",
          "text": [
            "Top 5 materials used for garment making:\n",
            "material\n",
            "cotton       3\n",
            "polyester    2\n",
            "wool         2\n",
            "silk         2\n",
            "linen        1\n",
            "Name: count, dtype: int64\n"
          ]
        }
      ]
    },
    {
      "cell_type": "markdown",
      "source": [
        "2. Identify the seasons with most garment usage\n"
      ],
      "metadata": {
        "id": "_DGjzsGC8i59"
      }
    },
    {
      "cell_type": "code",
      "source": [
        "# Import pandas library\n",
        "import pandas as pd\n",
        "\n",
        "# Sample DataFrame for seasons\n",
        "season_data = {\n",
        "    'season': ['summer', 'winter', 'spring', 'autumn', 'summer', 'winter'],\n",
        "    'sales': [300, 150, 200, 100, 250, 180]\n",
        "}\n",
        "\n",
        "# Create DataFrame using pandas\n",
        "season_df = pd.DataFrame(season_data)\n",
        "\n",
        "# Seasons with most garment usage\n",
        "top_seasons = season_df.groupby('season')['sales'].sum().nlargest(5)\n",
        "print(\"\\nSeasons with most garment usage:\")\n",
        "print(top_seasons)"
      ],
      "metadata": {
        "colab": {
          "base_uri": "https://localhost:8080/"
        },
        "id": "0PsoMPaz8E_O",
        "outputId": "4b36095e-8288-483d-b0a7-7b681c57ad56"
      },
      "execution_count": 2,
      "outputs": [
        {
          "output_type": "stream",
          "name": "stdout",
          "text": [
            "\n",
            "Seasons with most garment usage:\n",
            "season\n",
            "summer    550\n",
            "winter    330\n",
            "spring    200\n",
            "autumn    100\n",
            "Name: sales, dtype: int64\n"
          ]
        }
      ]
    },
    {
      "cell_type": "markdown",
      "source": [
        "3.Find the max and min size of garments made for customers."
      ],
      "metadata": {
        "id": "nkT2F-498_lh"
      }
    },
    {
      "cell_type": "code",
      "source": [
        "!pip install pandas\n",
        "import pandas as pd  # Import the pandas library\n",
        "\n",
        "# Sample DataFrame for sizes\n",
        "size_data = {\n",
        "    'size': ['S', 'M', 'L', 'XL', 'XXL', 'S', 'M', 'L', 'L', 'M'],\n",
        "}\n",
        "\n",
        "size_df = pd.DataFrame(size_data)\n",
        "\n",
        "# Determine size distribution\n",
        "size_distribution = size_df['size'].value_counts()\n",
        "max_size = size_distribution.idxmax()  # Getting the most common size\n",
        "min_size = size_distribution.idxmin()  # Getting the least common size\n",
        "\n",
        "print(f\"\\nMax size of garments made for customers: {max_size}\")\n",
        "print(f\"Min size of garments made for customers: {min_size}\")"
      ],
      "metadata": {
        "colab": {
          "base_uri": "https://localhost:8080/"
        },
        "id": "0cadGY7R8Pzp",
        "outputId": "13474b0b-0831-4586-d819-0f9670c0e312"
      },
      "execution_count": 3,
      "outputs": [
        {
          "output_type": "stream",
          "name": "stdout",
          "text": [
            "Requirement already satisfied: pandas in /usr/local/lib/python3.10/dist-packages (2.2.2)\n",
            "Requirement already satisfied: numpy>=1.22.4 in /usr/local/lib/python3.10/dist-packages (from pandas) (1.26.4)\n",
            "Requirement already satisfied: python-dateutil>=2.8.2 in /usr/local/lib/python3.10/dist-packages (from pandas) (2.8.2)\n",
            "Requirement already satisfied: pytz>=2020.1 in /usr/local/lib/python3.10/dist-packages (from pandas) (2024.2)\n",
            "Requirement already satisfied: tzdata>=2022.7 in /usr/local/lib/python3.10/dist-packages (from pandas) (2024.2)\n",
            "Requirement already satisfied: six>=1.5 in /usr/local/lib/python3.10/dist-packages (from python-dateutil>=2.8.2->pandas) (1.16.0)\n",
            "\n",
            "Max size of garments made for customers: M\n",
            "Min size of garments made for customers: XL\n"
          ]
        }
      ]
    },
    {
      "cell_type": "markdown",
      "source": [
        "4. Name the top 5 decoration, fabrictype used to make garments"
      ],
      "metadata": {
        "id": "Vq91IZAj9Lyz"
      }
    },
    {
      "cell_type": "code",
      "source": [
        "# Sample DataFrame for decoration and fabric type\n",
        "!pip install pandas\n",
        "import pandas as pd # Import the pandas library with the alias 'pd'\n",
        "decoration_data = {\n",
        "    'decoration': ['embroidery', 'prints', 'embroidery', 'lace', 'prints', 'basic'],\n",
        "    'fabric_type': ['cotton', 'polyester', 'silk', 'linen', 'cotton', 'wool']\n",
        "}\n",
        "\n",
        "decoration_df = pd.DataFrame(decoration_data)\n",
        "\n",
        "# Top decorations and fabric types\n",
        "top_decorations = decoration_df['decoration'].value_counts().nlargest(5)\n",
        "top_fabric_types = decoration_df['fabric_type'].value_counts().nlargest(5)\n",
        "\n",
        "print(\"\\nTop 5 decorations used for garments:\")\n",
        "print(top_decorations)\n",
        "print(\"\\nTop 5 fabric types used for garments:\")\n",
        "print(top_fabric_types)"
      ],
      "metadata": {
        "colab": {
          "base_uri": "https://localhost:8080/"
        },
        "id": "I1GV314m9RDo",
        "outputId": "b5cfc0c8-18eb-414b-aff1-337b33342ddf"
      },
      "execution_count": 4,
      "outputs": [
        {
          "output_type": "stream",
          "name": "stdout",
          "text": [
            "Requirement already satisfied: pandas in /usr/local/lib/python3.10/dist-packages (2.2.2)\n",
            "Requirement already satisfied: numpy>=1.22.4 in /usr/local/lib/python3.10/dist-packages (from pandas) (1.26.4)\n",
            "Requirement already satisfied: python-dateutil>=2.8.2 in /usr/local/lib/python3.10/dist-packages (from pandas) (2.8.2)\n",
            "Requirement already satisfied: pytz>=2020.1 in /usr/local/lib/python3.10/dist-packages (from pandas) (2024.2)\n",
            "Requirement already satisfied: tzdata>=2022.7 in /usr/local/lib/python3.10/dist-packages (from pandas) (2024.2)\n",
            "Requirement already satisfied: six>=1.5 in /usr/local/lib/python3.10/dist-packages (from python-dateutil>=2.8.2->pandas) (1.16.0)\n",
            "\n",
            "Top 5 decorations used for garments:\n",
            "decoration\n",
            "embroidery    2\n",
            "prints        2\n",
            "lace          1\n",
            "basic         1\n",
            "Name: count, dtype: int64\n",
            "\n",
            "Top 5 fabric types used for garments:\n",
            "fabric_type\n",
            "cotton       2\n",
            "polyester    1\n",
            "silk         1\n",
            "linen        1\n",
            "wool         1\n",
            "Name: count, dtype: int64\n"
          ]
        }
      ]
    },
    {
      "cell_type": "markdown",
      "source": [
        "5.  Identify the costliest stylish garment prepared for customers."
      ],
      "metadata": {
        "id": "qQ5BJWXV9Y_z"
      }
    },
    {
      "cell_type": "code",
      "source": [
        "# Sample DataFrame for garments with prices\n",
        "import pandas as pd # Importing the pandas library with the alias 'pd'\n",
        "\n",
        "garment_data = {\n",
        "    'garment_name': ['Dress A', 'Dress B', 'Dress C', 'Dress D', 'Dress E'],\n",
        "    'price': [500, 700, 300, 800, 450],\n",
        "    'style': ['casual', 'formal', 'sporty', 'designer', 'casual']\n",
        "}\n",
        "\n",
        "garment_df = pd.DataFrame(garment_data)\n",
        "\n",
        "# Finding the costliest stylish garment\n",
        "costliest_garment = garment_df.loc[garment_df['price'].idxmax()]\n",
        "print(f\"\\nCostliest stylish garment prepared for customers: {costliest_garment['garment_name']} priced at {costliest_garment['price']}\")\n"
      ],
      "metadata": {
        "colab": {
          "base_uri": "https://localhost:8080/"
        },
        "id": "zmROIqmB9yAk",
        "outputId": "fb6df0e2-5250-4dbb-85d7-5143ab3fd1cf"
      },
      "execution_count": 5,
      "outputs": [
        {
          "output_type": "stream",
          "name": "stdout",
          "text": [
            "\n",
            "Costliest stylish garment prepared for customers: Dress D priced at 800\n"
          ]
        }
      ]
    },
    {
      "cell_type": "markdown",
      "source": [
        "6. Apply either Classification Model or CLustering Model to evaluate the dataset"
      ],
      "metadata": {
        "id": "8jQ3l8xL96Vb"
      }
    },
    {
      "cell_type": "code",
      "source": [
        "import pandas as pd # Import the pandas library and assign it the alias 'pd'\n",
        "from sklearn.model_selection import train_test_split\n",
        "from sklearn.linear_model import LogisticRegression\n",
        "from sklearn.metrics import accuracy_score\n",
        "\n",
        "# Sample Data for classification\n",
        "classification_data = {\n",
        "    'material': ['cotton', 'polyester', 'silk', 'wool', 'linen'],\n",
        "    'style': ['casual', 'formal', 'sporty', 'designer', 'casual'],\n",
        "    'sales': [200, 300, 400, 150, 100],\n",
        "    'popular': [0, 1, 1, 0, 0]  # Target variable: 1 if popular, 0 otherwise\n",
        "}\n",
        "\n",
        "class_df = pd.DataFrame(classification_data)\n",
        "\n",
        "# Convert categorical data to dummy variables\n",
        "X = pd.get_dummies(class_df[['material', 'style', 'sales']], drop_first=True)\n",
        "y = class_df['popular']\n",
        "\n",
        "# Train-Test Split\n",
        "X_train, X_test, y_train, y_test = train_test_split(X, y, test_size=0.2, random_state=0)\n",
        "\n",
        "# Model Training\n",
        "model = LogisticRegression()\n",
        "model.fit(X_train, y_train)\n",
        "\n",
        "# Prediction\n",
        "y_pred = model.predict(X_test)\n",
        "\n",
        "# Accuracy\n",
        "accuracy = accuracy_score(y_test, y_pred)\n",
        "print(f\"\\nModel Accuracy: {accuracy:.2f}\")"
      ],
      "metadata": {
        "colab": {
          "base_uri": "https://localhost:8080/"
        },
        "id": "bn6DClC--BpQ",
        "outputId": "e28fe577-d4b0-4cc1-c617-97a43938eff7"
      },
      "execution_count": 6,
      "outputs": [
        {
          "output_type": "stream",
          "name": "stdout",
          "text": [
            "\n",
            "Model Accuracy: 1.00\n"
          ]
        }
      ]
    }
  ]
}